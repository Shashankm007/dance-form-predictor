{
 "cells": [
  {
   "cell_type": "code",
   "execution_count": 1,
   "metadata": {},
   "outputs": [],
   "source": [
    "import pandas as pd\n",
    "import matplotlib.pyplot as plt\n",
    "import tensorflow as tf\n",
    "from tensorflow.keras.preprocessing import image\n",
    "from sklearn.model_selection import train_test_split\n",
    "import numpy as np"
   ]
  },
  {
   "cell_type": "code",
   "execution_count": 77,
   "metadata": {},
   "outputs": [],
   "source": [
    "data = pd.read_csv('fer2013.csv')\n",
    "pixels = []\n",
    "labels = []\n",
    "for emotion in data['emotion']:\n",
    "    labels.append(int(emotion))\n",
    "for pixel in data.iloc[:,1]:\n",
    "    ar = pixel.split()\n",
    "    ar = np.array(ar,dtype = 'int')\n",
    "    pixels.append(ar)\n",
    "x = []\n",
    "for ar in pixels:\n",
    "    x.append(ar.reshape(48,48,1))\n",
    "x = np.array(x)\n",
    "labels = np.array(labels)"
   ]
  },
  {
   "cell_type": "code",
   "execution_count": 90,
   "metadata": {},
   "outputs": [],
   "source": [
    "model =  tf.keras.Sequential([tf.keras.layers.Conv2D(filters = 8,kernel_size=(3,3),activation='relu',input_shape=(48,48,1)),\n",
    "                              tf.keras.layers.Conv2D(filters = 16, kernel_size=(5,5),activation='relu'),\n",
    "                              tf.keras.layers.BatchNormalization(),\n",
    "                              tf.keras.layers.MaxPool2D(),\n",
    "                              tf.keras.layers.Conv2D(filters = 32, kernel_size=(5,5),activation='relu'),\n",
    "                              tf.keras.layers.Conv2D(filters = 64, kernel_size=(5,5),activation='relu'),\n",
    "                              tf.keras.layers.BatchNormalization(),\n",
    "                              tf.keras.layers.MaxPool2D(),\n",
    "                              tf.keras.layers.Flatten(),\n",
    "                              tf.keras.layers.Dense(256,activation='relu'),\n",
    "                              tf.keras.layers.Dense(128,activation='relu'),\n",
    "                              tf.keras.layers.Dropout(0.5),\n",
    "                              tf.keras.layers.Dense(7,activation = tf.nn.softmax)])"
   ]
  },
  {
   "cell_type": "code",
   "execution_count": 91,
   "metadata": {},
   "outputs": [],
   "source": [
    "model.compile(optimizer='Adam',loss = 'sparse_categorical_crossentropy',metrics=['accuracy'])"
   ]
  },
  {
   "cell_type": "code",
   "execution_count": 92,
   "metadata": {},
   "outputs": [],
   "source": [
    "train_x,test_x,train_y,test_y = train_test_split(x,labels,test_size = 0.1)"
   ]
  },
  {
   "cell_type": "code",
   "execution_count": 96,
   "metadata": {},
   "outputs": [
    {
     "name": "stdout",
     "output_type": "stream",
     "text": [
      "Train on 32298 samples, validate on 3589 samples\n",
      "32298/32298 [==============================] - 76s 2ms/sample - loss: 0.4574 - acc: 0.8365 - val_loss: 1.7769 - val_acc: 0.5673\n"
     ]
    }
   ],
   "source": [
    "history = model.fit(train_x,train_y,epochs = 1,batch_size = 32,validation_data = (test_x,test_y))"
   ]
  },
  {
   "cell_type": "code",
   "execution_count": 105,
   "metadata": {},
   "outputs": [],
   "source": [
    "model.save_weights('weights.h5')\n"
   ]
  },
  {
   "cell_type": "code",
   "execution_count": 99,
   "metadata": {},
   "outputs": [],
   "source": [
    "model_json = model.to_json()\n",
    "with open('model_layout.json','w') as file:\n",
    "    file.write(model_json)"
   ]
  }
 ],
 "metadata": {
  "kernelspec": {
   "display_name": "Python 3",
   "language": "python",
   "name": "python3"
  },
  "language_info": {
   "codemirror_mode": {
    "name": "ipython",
    "version": 3
   },
   "file_extension": ".py",
   "mimetype": "text/x-python",
   "name": "python",
   "nbconvert_exporter": "python",
   "pygments_lexer": "ipython3",
   "version": "3.7.4+"
  }
 },
 "nbformat": 4,
 "nbformat_minor": 2
}
